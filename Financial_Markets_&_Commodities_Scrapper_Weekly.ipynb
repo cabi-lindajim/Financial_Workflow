{
  "cells": [
    {
      "cell_type": "markdown",
      "metadata": {
        "id": "3hB9xqkflx9F"
      },
      "source": [
        "# Financial Markets Prices\n",
        "---\n",
        "### Autor: Diego Alegría   2023-02-24 v3\n",
        "#### Basado en código de J Gonzalez\n",
        "---\n",
        "Código para obtener valores de ~ 257 precios relevantes para diversos reportes.\n",
        "Utilizado todos los viernes después de que cierre la bolsa. (4 pm en Nueva York, 2 o 3 en Guate)\n",
        "\n",
        "Usos primarios son un reporte semanal de Promerica el viernes, y para reporte de Commodities el lunes.\n",
        "\n",
        "- Referencias para arreglo:\n",
        "https://github.com/JECSand/yahoofinancials/blob/master/yahoofinancials/__init__.py\n",
        "https://github.com/JECSand/yahoofinancials/issues/105\n",
        "https://github.com/JECSand/yahoofinancials/commit/62119be23fe81f89fd5fb1bd450fc2088667c8df"
      ]
    },
    {
      "cell_type": "markdown",
      "metadata": {
        "id": "c399bYhFlx9H"
      },
      "source": [
        "---\n",
        "### Instrucciones de actualizacion.\n",
        "\n",
        "Solamente actualizar yahoofinancials con pip, El autor JECSand implementó los arreglos propuestos por GitHub.\n",
        "\n",
        "- 257 precios son actualizados por medio de yahoofinancials.\n",
        "- 10 variables son actualizadas manualmente, utilizando el excel Markets_Temporal.xlsx ubicado en DB\\Weekly\\Viernes Temporales\\\n",
        "\n",
        "Hay una seccion en este codigo al final que realiza el procesamiento para subir estas ultimas variables sin tener que abrir SQL."
      ]
    },
    {
      "cell_type": "markdown",
      "metadata": {
        "id": "cpZY2qCrlx9H"
      },
      "source": [
        "# Importación de liberías"
      ]
    },
    {
      "cell_type": "code",
      "execution_count": 3,
      "metadata": {
        "colab": {
          "base_uri": "https://localhost:8080/"
        },
        "id": "-DEiVzwXl9BR",
        "outputId": "b2abca91-cfbe-46ac-df70-b88acffc9016"
      },
      "outputs": [],
      "source": [
        "# !pip install yahoofinancials\n",
        "# !pip install pyodbc"
      ]
    },
    {
      "cell_type": "code",
      "execution_count": 4,
      "metadata": {
        "id": "ND3j00GElx9H"
      },
      "outputs": [],
      "source": [
        "# import investpy\n",
        "import datetime as dt\n",
        "from datetime import datetime\n",
        "import matplotlib.pyplot as plt\n",
        "from matplotlib import style\n",
        "import pandas as pd\n",
        "import pandas_datareader.data as web\n",
        "from yahoofinancials import YahooFinancials\n",
        "from datetime import*\n",
        "import urllib\n",
        "import numpy as np\n",
        "import time\n",
        "import pyodbc\n",
        "import traceback\n",
        "import requests as requests\n",
        "import numpy as np\n",
        "import sys\n",
        "from sqlalchemy import*\n",
        "\n",
        "from pandas import Timestamp\n",
        "style.use('ggplot')\n",
        "\n",
        "#Fecha de actual: (Lugar para Hardcoded abajo)\n",
        "fecha_inicial=datetime.today().strftime('%Y-%m-%d')\n",
        "fecha_final=(datetime.today() + timedelta(days=1)).strftime('%Y-%m-%d')"
      ]
    },
    {
      "cell_type": "markdown",
      "metadata": {
        "id": "aXPzbLzelx9I"
      },
      "source": [
        "# Funciones par SQL\n",
        "\n",
        "Información importante sobre esta celda\n",
        "\n",
        "- El código de lectura trae de regreso 3 querys que se utilizan en este notebook\n",
        "  - El primer query trae de regreso la última fecha\n",
        "  - El segundo trae una serie de fechas que son las necesarias obtener en la base de datos para homologar si se agrega un índice nuevo\n",
        "  - El tercero es un sample para crear el frame que se subirá a la base de datos"
      ]
    },
    {
      "cell_type": "code",
      "execution_count": 5,
      "metadata": {
        "id": "TL-aVnTIlx9I",
        "scrolled": true
      },
      "outputs": [
        {
          "name": "stdout",
          "output_type": "stream",
          "text": [
            "    ✓ connecting db: CABI_DB\n"
          ]
        },
        {
          "name": "stderr",
          "output_type": "stream",
          "text": [
            "C:\\Users\\lijv1\\AppData\\Local\\Temp\\ipykernel_18388\\3026994659.py:77: UserWarning: pandas only supports SQLAlchemy connectable (engine/connection) or database string URI or sqlite3 DBAPI2 connection. Other DBAPI2 objects are not tested. Please consider using SQLAlchemy.\n",
            "  df = pd.read_sql(query, sql_conn)\n"
          ]
        },
        {
          "name": "stdout",
          "output_type": "stream",
          "text": [
            "    ✓ connecting db: CABI_DB\n",
            "    ✓ connecting db: CABI_DB\n"
          ]
        }
      ],
      "source": [
        "driver= '{ODBC Driver 17 for SQL Server}'\n",
        "DATABASE_CONFIG = {\n",
        "    'server': 'datacabisvr2.database.windows.net',\n",
        "    'database': 'CABI_DB',\n",
        "    'username': 'eelvira',\n",
        "    'password': 'Cabi2023!'\n",
        "}\n",
        "\n",
        "server= 'datacabisvr2.database.windows.net'\n",
        "database='CABI_DB'\n",
        "username= 'dalegria'\n",
        "password= 'Cabi2019'\n",
        "\n",
        "connection_string = 'DRIVER=' + driver + \\\n",
        "                     ';SERVER=' + server + \\\n",
        "                    ';PORT=1435' + \\\n",
        "                    ';DATABASE=' + database + \\\n",
        "                    ';UID=' + username + \\\n",
        "                    ';PWD=' + password\n",
        "\n",
        "def write2db(df,table, fast = True):\n",
        "    # prepare SQLAlchemy engine\n",
        "    # Doc: https://docs.sqlalchemy.org/en/latest/dialects/mssql.html#module-sqlalchemy.dialects.mssql.pyodbc\n",
        "    # same connection string as before\n",
        "    params = urllib.parse.quote_plus(connection_string)\n",
        "    engine = create_engine(\"mssql+pyodbc:///?odbc_connect=%s\" % params, fast_executemany=fast)\n",
        "    flag=1\n",
        "    # df columns names need to match the table column names in DB\n",
        "\n",
        "    # check #rows in table before write operation\n",
        "    sql_conn = pyodbc.connect(connection_string)\n",
        "    cursor = sql_conn.cursor()\n",
        "    query = '''\n",
        "                SELECT count(*)\n",
        "                FROM [dbo].['''+table+\"]\"\n",
        "\n",
        "    try:\n",
        "        cursor.execute(query)\n",
        "        rows_before = cursor.fetchone()\n",
        "        flag=1\n",
        "    except:\n",
        "        print('No table, creating a new table')\n",
        "        flag=0\n",
        "\n",
        "\n",
        "    # write results to Azure DB table\n",
        "    df.to_sql(table, con = engine, if_exists = 'append', index = False)\n",
        "    if(flag==1):\n",
        "        # check #rows in table after write operation\n",
        "        cursor.execute(query)\n",
        "        rows_after = cursor.fetchone()\n",
        "        print(rows_after)\n",
        "        print(\"Inserted {} rows into table {}\".format(rows_after[0]-rows_before[0], table))\n",
        "\n",
        "    else:\n",
        "        print('New table created')\n",
        "    return\n",
        "\n",
        "\n",
        "server= 'datacabisvr2.database.windows.net'\n",
        "database='CABI_DB'\n",
        "username= 'eelvira'\n",
        "password= 'Cabi2023!'\n",
        "driver= '{ODBC Driver 17 for SQL Server}'\n",
        "connection_string = 'DRIVER=' + driver + \\\n",
        "                     ';SERVER=' + server + \\\n",
        "                    ';PORT=1435' + \\\n",
        "                    ';DATABASE=' + database + \\\n",
        "                    ';UID=' + username + \\\n",
        "                    ';PWD=' + password\n",
        "\n",
        "def read_data_to_df(query):\n",
        "    try:\n",
        "        print(\"    \\u2713 connecting db: \" + database)\n",
        "        sql_conn = pyodbc.connect(connection_string)\n",
        "        # execute query and save data in pandas df\n",
        "        df = pd.read_sql(query, sql_conn)\n",
        "        return df\n",
        "    except Exception as error:\n",
        "        print(\"    \\u2717 accesing {} has error\".format(database))\n",
        "        print(\"    \\u2717 error message: {}\".format(error))\n",
        "        # I found that traceback prints much more detailed error message\n",
        "        traceback.print_exc()\n",
        "\n",
        "if __name__ == \"__main__\":\n",
        "\n",
        "    # Query para tomar el último dato del dji\n",
        "    query_fecha = '''\n",
        "            SELECT        MAX(DatoFecha)\n",
        "            FROM            dbo.TablaDatos\n",
        "            WHERE        (IdIndiceEspecifico = 2988)\n",
        "\n",
        "\n",
        "                '''\n",
        "\n",
        "    query_fechas = '''\n",
        "            SELECT        DatoFecha\n",
        "            FROM            dbo.TablaDatos\n",
        "            WHERE        (IdIndiceEspecifico = 2986)\n",
        "\n",
        "\n",
        "                '''\n",
        "\n",
        "    querydf = '''\n",
        "SELECT\n",
        "      TablaDatos.[IdIndiceEspecifico]\n",
        "      ,[DatoFecha]\n",
        "      /*,[D_Open]\n",
        "      ,[D_High]\n",
        "      ,[D_Low]*/\n",
        "      ,[D_Close]\n",
        "\n",
        "      ,Indice_Especifico.Nombre\n",
        "      /*,Indice_Especifico.Descripcion\n",
        "      ,Indice_Especifico.IdIndicador*/\n",
        "\n",
        "  FROM [dbo].[TablaDatos]\n",
        "  INNER JOIN Indice_Especifico\n",
        "  ON TablaDatos.IdIndiceEspecifico=Indice_Especifico.IdIndiceEspecifico\n",
        "  WHERE Indice_Especifico.IdIndicador=21\n",
        "  OR Indice_Especifico.IdIndicador=22\n",
        "  OR Indice_Especifico.IdIndicador=30\n",
        "  OR Indice_Especifico.IdIndicador=37\n",
        "            '''\n",
        "\n",
        "## Estas tres consultas sirven para definir varios parámetros de los datos a subir.\n",
        "# esto incluye fechas,\n",
        "last_date = read_data_to_df(query_fecha)\n",
        "\n",
        "\n",
        "fechas = read_data_to_df(query_fechas)\n",
        "\n",
        "commdf=read_data_to_df(querydf)\n",
        "\n",
        "#last_date_value=last_date.loc[0][0]\n",
        "#last_date_value=datetime.strftime(last_date_value,'%Y-%m-%d')\n",
        "#fechas.DatoFecha=pd.to_datetime(fechas.DatoFecha)\n",
        "#last_date_value"
      ]
    },
    {
      "cell_type": "code",
      "execution_count": 6,
      "metadata": {
        "id": "J0MB4I5Ilx9J"
      },
      "outputs": [],
      "source": [
        "last_date_value = '2025-7-11'"
      ]
    },
    {
      "cell_type": "markdown",
      "metadata": {
        "id": "FtPcLM3flx9J"
      },
      "source": [
        "---\n",
        "# Lectura de Tickets ()\n",
        "\n",
        "Si se agrega un nuevo índice se debe agregar a esta base de datos"
      ]
    },
    {
      "cell_type": "code",
      "execution_count": 7,
      "metadata": {
        "colab": {
          "base_uri": "https://localhost:8080/",
          "height": 424
        },
        "id": "_h3JxE0-lx9K",
        "outputId": "7333b189-68d3-4227-b024-5ecdc050a112"
      },
      "outputs": [
        {
          "data": {
            "text/html": [
              "<div>\n",
              "<style scoped>\n",
              "    .dataframe tbody tr th:only-of-type {\n",
              "        vertical-align: middle;\n",
              "    }\n",
              "\n",
              "    .dataframe tbody tr th {\n",
              "        vertical-align: top;\n",
              "    }\n",
              "\n",
              "    .dataframe thead th {\n",
              "        text-align: right;\n",
              "    }\n",
              "</style>\n",
              "<table border=\"1\" class=\"dataframe\">\n",
              "  <thead>\n",
              "    <tr style=\"text-align: right;\">\n",
              "      <th></th>\n",
              "      <th>IdTD</th>\n",
              "      <th>IdTicker</th>\n",
              "      <th>Source</th>\n",
              "      <th>Descripcion</th>\n",
              "      <th>IdIndiceEspecifico</th>\n",
              "    </tr>\n",
              "  </thead>\n",
              "  <tbody>\n",
              "    <tr>\n",
              "      <th>0</th>\n",
              "      <td>$BCOM(D)</td>\n",
              "      <td>AW=F</td>\n",
              "      <td>Yahoo</td>\n",
              "      <td>Blmbg Commodity Index</td>\n",
              "      <td>3006</td>\n",
              "    </tr>\n",
              "    <tr>\n",
              "      <th>1</th>\n",
              "      <td>$BCOMEN(D)</td>\n",
              "      <td>$BCOMEN(D)</td>\n",
              "      <td>Pendiente</td>\n",
              "      <td>Blmbg Energy Sub</td>\n",
              "      <td>3775</td>\n",
              "    </tr>\n",
              "    <tr>\n",
              "      <th>2</th>\n",
              "      <td>$BCOMGR(D)</td>\n",
              "      <td>$BCOMGR(D)</td>\n",
              "      <td>Investing</td>\n",
              "      <td>Blmbg Grains Subindex</td>\n",
              "      <td>3007</td>\n",
              "    </tr>\n",
              "    <tr>\n",
              "      <th>3</th>\n",
              "      <td>$BCOMIN(D)</td>\n",
              "      <td>$BCOMIN(D)</td>\n",
              "      <td>Investing</td>\n",
              "      <td>Blmbg Industrial Mtls Sub</td>\n",
              "      <td>3008</td>\n",
              "    </tr>\n",
              "    <tr>\n",
              "      <th>4</th>\n",
              "      <td>$BCOMPR(D)</td>\n",
              "      <td>$BCOMPR(D)</td>\n",
              "      <td>Investing</td>\n",
              "      <td>Blmbg Precious Metals Sub</td>\n",
              "      <td>3009</td>\n",
              "    </tr>\n",
              "    <tr>\n",
              "      <th>...</th>\n",
              "      <td>...</td>\n",
              "      <td>...</td>\n",
              "      <td>...</td>\n",
              "      <td>...</td>\n",
              "      <td>...</td>\n",
              "    </tr>\n",
              "    <tr>\n",
              "      <th>261</th>\n",
              "      <td>XRT(HB)</td>\n",
              "      <td>XRT</td>\n",
              "      <td>Yahoo</td>\n",
              "      <td>SPDR S&amp;P Retail</td>\n",
              "      <td>2964</td>\n",
              "    </tr>\n",
              "    <tr>\n",
              "      <th>262</th>\n",
              "      <td>ZO=F</td>\n",
              "      <td>ZO=F</td>\n",
              "      <td>Yahoo</td>\n",
              "      <td>Oats Continuous Contract [Sep21]</td>\n",
              "      <td>3022</td>\n",
              "    </tr>\n",
              "    <tr>\n",
              "      <th>263</th>\n",
              "      <td>ZR=F</td>\n",
              "      <td>ZR=F</td>\n",
              "      <td>Yahoo</td>\n",
              "      <td>Rough Rice</td>\n",
              "      <td>3998</td>\n",
              "    </tr>\n",
              "    <tr>\n",
              "      <th>264</th>\n",
              "      <td>DC=F</td>\n",
              "      <td>DC=F</td>\n",
              "      <td>Yahoo</td>\n",
              "      <td>Class III Milk</td>\n",
              "      <td>4020</td>\n",
              "    </tr>\n",
              "    <tr>\n",
              "      <th>265</th>\n",
              "      <td>CSC=F</td>\n",
              "      <td>CSC=F</td>\n",
              "      <td>Yahoo</td>\n",
              "      <td>Cash-Settled Cheese</td>\n",
              "      <td>4021</td>\n",
              "    </tr>\n",
              "  </tbody>\n",
              "</table>\n",
              "<p>266 rows × 5 columns</p>\n",
              "</div>"
            ],
            "text/plain": [
              "           IdTD    IdTicker     Source                       Descripcion  \\\n",
              "0      $BCOM(D)        AW=F      Yahoo             Blmbg Commodity Index   \n",
              "1    $BCOMEN(D)  $BCOMEN(D)  Pendiente                  Blmbg Energy Sub   \n",
              "2    $BCOMGR(D)  $BCOMGR(D)  Investing             Blmbg Grains Subindex   \n",
              "3    $BCOMIN(D)  $BCOMIN(D)  Investing         Blmbg Industrial Mtls Sub   \n",
              "4    $BCOMPR(D)  $BCOMPR(D)  Investing         Blmbg Precious Metals Sub   \n",
              "..          ...         ...        ...                               ...   \n",
              "261     XRT(HB)         XRT      Yahoo                   SPDR S&P Retail   \n",
              "262        ZO=F        ZO=F      Yahoo  Oats Continuous Contract [Sep21]   \n",
              "263        ZR=F        ZR=F      Yahoo                        Rough Rice   \n",
              "264        DC=F        DC=F      Yahoo                    Class III Milk   \n",
              "265       CSC=F       CSC=F      Yahoo               Cash-Settled Cheese   \n",
              "\n",
              "     IdIndiceEspecifico  \n",
              "0                  3006  \n",
              "1                  3775  \n",
              "2                  3007  \n",
              "3                  3008  \n",
              "4                  3009  \n",
              "..                  ...  \n",
              "261                2964  \n",
              "262                3022  \n",
              "263                3998  \n",
              "264                4020  \n",
              "265                4021  \n",
              "\n",
              "[266 rows x 5 columns]"
            ]
          },
          "metadata": {},
          "output_type": "display_data"
        }
      ],
      "source": [
        "#Lectura de indices utilizados para cada variable charl\n",
        "# En Source se encuentra de donde se puede obtener\n",
        "try:\n",
        "    df=pd.read_excel(r'CARGA NUEVOS ETFs SQL 2020.xlsx',\n",
        "#     df=pd.read_excel(r'C:\\Users\\lijv1.LINDA_HP\\CABI\\Data Bases - Documents\\Weekly\\CARGA NUEVOS ETFs SQL 2020.xlsx',\n",
        "                  sheet_name='TickersDownload')\n",
        "except:\n",
        "    print('Falla encontrando archivo. Intentando por D. Alegria: ')\n",
        "    df=pd.read_excel(r'C:\\Users\\aleja\\CABI\\Data Bases - Documentos\\Weekly\\CARGA NUEVOS ETFs SQL 2020.xlsx',\n",
        "                  sheet_name='TickersDownload',usecols=np.arange(0,7))\n",
        "display(df)"
      ]
    },
    {
      "cell_type": "markdown",
      "metadata": {
        "id": "ZrijmqgOlx9K"
      },
      "source": [
        "## Filtro Manual de variables"
      ]
    },
    {
      "cell_type": "code",
      "execution_count": 8,
      "metadata": {},
      "outputs": [
        {
          "name": "stdout",
          "output_type": "stream",
          "text": [
            "27 10\n"
          ]
        }
      ],
      "source": [
        "from datetime import date\n",
        "\n",
        "def dia_y_mes_hoy():\n",
        "    hoy = date.today()\n",
        "    return hoy.day, hoy.month  # (día, mes)\n",
        "\n",
        "d, m = dia_y_mes_hoy()\n",
        "print(d, m)"
      ]
    },
    {
      "cell_type": "code",
      "execution_count": 9,
      "metadata": {
        "id": "NZ8M6vKmlx9K"
      },
      "outputs": [],
      "source": [
        "# #Filtro de variables manual:\n",
        "\n",
        "lista_manual = ['ERUS', 'RSX']\n",
        "\n",
        "# #Fecha Manual (Cambiar a automático para tomar la fecha de hoy):\n",
        "fecha_inicial=dt.datetime(2025,m,d)\n",
        "fecha_final=dt.datetime(2025,12,31)"
      ]
    },
    {
      "cell_type": "markdown",
      "metadata": {
        "id": "-xkWJzrqlx9K"
      },
      "source": [
        "# Scrapper para Yahoo para Data TD\n",
        "\n",
        "> Se recoge del DF anterior llamado donde están los indicadores todos aquellos donde su fuente es yahoo.com, se utiliza la librería de pandas Webreader para tomar la información.\n",
        "\n",
        "> Debajo se crea un df_y que será el que va a contener la última lectura de cada mercado que se toma de yahoo finance y se le va agregando información que posteriormente será homologada a el formato que está en tabladatos\n",
        "\n",
        "> Tiene un modo de fallo en donde se utiliza una vez falla la primera recolección de datos, utiliza una segunda oportunidad puesto que en el 99% de los casos itera dos veces y jala bien el indicador, si se quiere agregar más protección solo encerrar en un ciclo while, evitar usarlos por eficiencia."
      ]
    },
    {
      "cell_type": "code",
      "execution_count": 10,
      "metadata": {
        "colab": {
          "base_uri": "https://localhost:8080/",
          "height": 403
        },
        "id": "1OGOg60zlx9K",
        "outputId": "9bcbb697-49ca-45dc-db35-d12ebb32b8fa"
      },
      "outputs": [
        {
          "data": {
            "text/plain": [
              "'AW=F'"
            ]
          },
          "metadata": {},
          "output_type": "display_data"
        },
        {
          "name": "stderr",
          "output_type": "stream",
          "text": [
            "[*********************100%***********************]  1 of 1 completed\n",
            "\n",
            "1 Failed download:\n",
            "['AW=F']: YFRateLimitError('Too Many Requests. Rate limited. Try after a while.')\n"
          ]
        },
        {
          "ename": "ValueError",
          "evalue": "El DataFrame 'yahoo_financials' está vacío. Verifica la descarga de datos.",
          "output_type": "error",
          "traceback": [
            "\u001b[1;31m---------------------------------------------------------------------------\u001b[0m",
            "\u001b[1;31mValueError\u001b[0m                                Traceback (most recent call last)",
            "Cell \u001b[1;32mIn[10], line 71\u001b[0m\n\u001b[0;32m     69\u001b[0m idx\u001b[38;5;241m=\u001b[39my\u001b[38;5;241m.\u001b[39mloc[\u001b[38;5;241m0\u001b[39m]\n\u001b[0;32m     70\u001b[0m display(idx\u001b[38;5;241m.\u001b[39mIdTicker)\n\u001b[1;32m---> 71\u001b[0m last \u001b[38;5;241m=\u001b[39m downloading_yahoo(idx, fecha_inicial, fecha_final)\n\u001b[0;32m     72\u001b[0m last\n",
            "Cell \u001b[1;32mIn[10], line 54\u001b[0m, in \u001b[0;36mdownloading_yahoo\u001b[1;34m(indice, fecha_i, fecha_f)\u001b[0m\n\u001b[0;32m     52\u001b[0m yahoo_financials \u001b[38;5;241m=\u001b[39m yf\u001b[38;5;241m.\u001b[39mdownload(ind, fecha_i, fecha_f, auto_adjust\u001b[38;5;241m=\u001b[39m\u001b[38;5;28;01mFalse\u001b[39;00m)\n\u001b[0;32m     53\u001b[0m \u001b[38;5;28;01mif\u001b[39;00m yahoo_financials\u001b[38;5;241m.\u001b[39mempty:\n\u001b[1;32m---> 54\u001b[0m     \u001b[38;5;28;01mraise\u001b[39;00m \u001b[38;5;167;01mValueError\u001b[39;00m(\u001b[38;5;124m\"\u001b[39m\u001b[38;5;124mEl DataFrame \u001b[39m\u001b[38;5;124m'\u001b[39m\u001b[38;5;124myahoo_financials\u001b[39m\u001b[38;5;124m'\u001b[39m\u001b[38;5;124m está vacío. Verifica la descarga de datos.\u001b[39m\u001b[38;5;124m\"\u001b[39m)\n\u001b[0;32m     56\u001b[0m yahoo_financials\u001b[38;5;241m.\u001b[39mreset_index(inplace\u001b[38;5;241m=\u001b[39m\u001b[38;5;28;01mTrue\u001b[39;00m,drop\u001b[38;5;241m=\u001b[39m\u001b[38;5;28;01mFalse\u001b[39;00m)\n\u001b[0;32m     58\u001b[0m display(yahoo_financials)\n",
            "\u001b[1;31mValueError\u001b[0m: El DataFrame 'yahoo_financials' está vacío. Verifica la descarga de datos."
          ]
        }
      ],
      "source": [
        "## CELL DE INICIALIZACION Y DEFINICIONES\n",
        "from tqdm.notebook import tqdm, trange     #Comentar si no se quiere utilizar progress bar\n",
        "# from tqdm import tqdm, trange            #Progress bar alternativo\n",
        "\n",
        "#Definicion de variables obtenidas desde yahoo\n",
        "y=df[df['Source']=='Yahoo']\n",
        "y.reset_index(inplace=True,drop=True)\n",
        "\n",
        "#Construccion de dataframe contenedor\n",
        "df_y=pd.DataFrame(columns=['IdIndiceEspecifico','Date', 'High', 'Low', 'Open', 'Close', 'Volume', 'Adj Close'\n",
        "                           ,'Descripcion', 'IdTD','IdTicker','Source'])\n",
        "\n",
        "\n",
        "\n",
        "import datetime as dt\n",
        "import yfinance as yf\n",
        "\n",
        "\n",
        "\n",
        "#Definicion de funciones para extraccion de datos del paquete bajado:\n",
        "def unpack(initial, ind):\n",
        "    precios = initial\n",
        "\n",
        "    #print(\"PRECIOS\", precios.columns)\n",
        "\n",
        "    #display(precios)\n",
        "\n",
        "#     display(precios.Date)\n",
        "    #Extraccion de valores de precios:\n",
        "    last = pd.DataFrame({'DatoFecha':[precios['Date'][0]]})\n",
        "    last['D_Open'] = precios['Open']\n",
        "    last['D_High'] = precios['High']\n",
        "    last['D_Low'] = precios['Low']\n",
        "    last['D_Close'] = precios['Close']\n",
        "    last['D_Volume'] = precios['Volume']\n",
        "    last['D_OpenInterest'] = precios['Adj Close']\n",
        "#     if ('Adj Close', 'AW=F') in precios.columns:\n",
        "#         last['D_OpenInterest'] = precios[('Adj Close', 'AW=F')]\n",
        "#     else:\n",
        "#         last['D_OpenInterest'] = 0  # O cualquier otro valor predeterminado\n",
        "    #Extraccion de valores de formato:\n",
        "    last['IdIndiceEspecifico']=ind.IdIndiceEspecifico\n",
        "    last['Descripcion']=ind.Descripcion\n",
        "    last['IdTD']=ind.IdTD\n",
        "    last['IdTicker']=ind.IdTicker\n",
        "    last['Source']=ind.Source\n",
        "    return last\n",
        "\n",
        "\n",
        "def downloading_yahoo(indice,fecha_i,fecha_f):\n",
        "    ind = indice.IdTicker\n",
        "    yahoo_financials = yf.download(ind, fecha_i, fecha_f, auto_adjust=False)\n",
        "    if yahoo_financials.empty:\n",
        "        raise ValueError(\"El DataFrame 'yahoo_financials' está vacío. Verifica la descarga de datos.\")\n",
        "\n",
        "    yahoo_financials.reset_index(inplace=True,drop=False)\n",
        "\n",
        "    display(yahoo_financials)\n",
        "\n",
        "    return unpack(yahoo_financials,indice)\n",
        "\n",
        "# if 'lista_manual' in locals:\n",
        "#     y_descarga=y[y.IdTicker.isin(lista)].copy()\n",
        "#     y_descarga.reset_index(inplace=True)\n",
        "# else:\n",
        "y_descarga = y.copy()\n",
        "\n",
        "# Quick test\n",
        "idx=y.loc[0]\n",
        "display(idx.IdTicker)\n",
        "last = downloading_yahoo(idx, fecha_inicial, fecha_final)\n",
        "last"
      ]
    },
    {
      "cell_type": "code",
      "execution_count": null,
      "metadata": {
        "colab": {
          "base_uri": "https://localhost:8080/",
          "height": 424
        },
        "id": "UOvn2ZGulx9L",
        "outputId": "65312915-a21a-4d19-bfb0-23d001325266"
      },
      "outputs": [],
      "source": [
        "y_descarga"
      ]
    },
    {
      "cell_type": "code",
      "execution_count": null,
      "metadata": {
        "colab": {
          "base_uri": "https://localhost:8080/",
          "height": 1000,
          "referenced_widgets": [
            "213ff2253f034725a2a0d12678984033",
            "18179d69fced4d79a5c281766ba38a83",
            "cc475c9e478f4984ab484a2a5976640f",
            "5d3ba73d55504395ad8546571381b080",
            "01676e4482034918b6fdbdca955bf583",
            "0b69150956de4b4d886261000c5c8186",
            "782401d2f5694875a92b22e57a2093ee",
            "bc6f0164fec84d3896e150a89db7d56f",
            "c2afbd76d17544ea8c41806f70e9c57e",
            "12856369655b48ea91b8f5314dca7103",
            "e2ecbff933ab452f8ec3b6dcc54bb71e"
          ]
        },
        "id": "mkU9sZiOE6pT",
        "outputId": "60117a39-17e9-4c17-f987-4b50d70864b1"
      },
      "outputs": [],
      "source": [
        "## DESCARGA COMPLETA de YAHOO\n",
        "missing = [] #Indices de faltantes\n",
        "a_juntar = [] #Variable para juntar dataframes\n",
        "espera = 1 # seg\n",
        "retries = 3\n",
        "\n",
        "for i in trange(len(y_descarga)):     #Reemplazar con range si no se quiere utilizar progress bar\n",
        "# for i in range(0,1):\n",
        "    #Procesamiento original\n",
        "    idx=y_descarga.loc[i]\n",
        "#     display(idx.IdTicker)\n",
        "    n=0\n",
        "    #Intentos de descarga:\n",
        "    for n in range(retries):\n",
        "        try:     #1er Intento\n",
        "            #Usando funciones definidas\n",
        "            last = downloading_yahoo(idx, fecha_inicial, fecha_final)\n",
        "            #Agregar y esperar para debugging\n",
        "            a_juntar.append(last)\n",
        "            time.sleep(espera)\n",
        "            break #EXITO, pasar a siguiente indice.\n",
        "        except:   #Segundo intento en caso de falla\n",
        "            print('Fallo con Ticker')\n",
        "            time.sleep(espera)\n",
        "            print('Entrando en modo de fallo')\n",
        "            if n == retries-1:\n",
        "                display(idx.IdTicker)\n",
        "                missing.append(idx.IdTicker)\n",
        "\n",
        "#Construir data frame final.\n",
        "df_y = pd.concat(a_juntar)\n",
        "display(missing)\n",
        "df_y"
      ]
    },
    {
      "cell_type": "markdown",
      "metadata": {
        "id": "YRNQdmrmlx9L"
      },
      "source": [
        "## Filtro específico para ocasiones especiales"
      ]
    },
    {
      "cell_type": "code",
      "execution_count": null,
      "metadata": {
        "id": "wlwLG9Njlx9L"
      },
      "outputs": [],
      "source": [
        "# df_y=df_y.loc[df_y.DatoFecha==df_y.DatoFecha[0].tolist()[0],:].copy()"
      ]
    },
    {
      "cell_type": "code",
      "execution_count": null,
      "metadata": {
        "colab": {
          "base_uri": "https://localhost:8080/",
          "height": 1000
        },
        "id": "-fW9sRPplx9L",
        "outputId": "c4b9b574-7769-4ac0-a740-b4282830d8a0"
      },
      "outputs": [],
      "source": [
        "import pandas as pd\n",
        "from IPython.display import display\n",
        "\n",
        "# Ajustar la configuración de visualización de pandas\n",
        "pd.set_option('display.max_rows', None)\n",
        "pd.set_option('display.max_columns', None)\n",
        "\n",
        "# ...\n",
        "\n",
        "solicitados = len(y_descarga)\n",
        "recibidos = len(df_y)\n",
        "print('Del total de {} datos solicitados, se recibieron {} datos.'.format(solicitados, recibidos))\n",
        "\n",
        "df_y_backup = df_y.copy()\n",
        "\n",
        "print('Indices faltantes:')\n",
        "display(missing)\n",
        "\n",
        "print('DataFrame completo:')\n",
        "display(df_y)\n"
      ]
    },
    {
      "cell_type": "code",
      "execution_count": 12,
      "metadata": {
        "id": "hckXRC7Vlx9M"
      },
      "outputs": [],
      "source": [
        "#Preparacion para correr esta seccion de nuevo.\n",
        "lista_manual = missing"
      ]
    },
    {
      "cell_type": "markdown",
      "metadata": {
        "id": "TSu-4bCKlx9M"
      },
      "source": [
        "#### Se quiere recibir 257"
      ]
    },
    {
      "cell_type": "markdown",
      "metadata": {
        "id": "KFYaAI6elx9M"
      },
      "source": [
        "## En caso de error... buscador de tickets para manual o intentar de nuevo.\n",
        "\n",
        "Por si no retorna uno de los datos por un fallo inminente utilizar esto para buscar el índice que falló y luego ingresarlo manual en la base de datos\n",
        "\n",
        "#### Datos no publicados:\n",
        "- AW=F Para 2022-12-23 !\n"
      ]
    },
    {
      "cell_type": "code",
      "execution_count": 13,
      "metadata": {
        "colab": {
          "base_uri": "https://localhost:8080/",
          "height": 300
        },
        "id": "NtE8sgkJlx9M",
        "outputId": "4d691241-a8b4-4810-ebb2-83d41664a5d9"
      },
      "outputs": [
        {
          "data": {
            "text/html": [
              "<div>\n",
              "<style scoped>\n",
              "    .dataframe tbody tr th:only-of-type {\n",
              "        vertical-align: middle;\n",
              "    }\n",
              "\n",
              "    .dataframe tbody tr th {\n",
              "        vertical-align: top;\n",
              "    }\n",
              "\n",
              "    .dataframe thead th {\n",
              "        text-align: right;\n",
              "    }\n",
              "</style>\n",
              "<table border=\"1\" class=\"dataframe\">\n",
              "  <thead>\n",
              "    <tr style=\"text-align: right;\">\n",
              "      <th></th>\n",
              "      <th>IdTD</th>\n",
              "      <th>IdTicker</th>\n",
              "      <th>Source</th>\n",
              "      <th>Descripcion</th>\n",
              "      <th>IdIndiceEspecifico</th>\n",
              "    </tr>\n",
              "  </thead>\n",
              "  <tbody>\n",
              "    <tr>\n",
              "      <th>63</th>\n",
              "      <td>EGPT(HB)</td>\n",
              "      <td>EGPT</td>\n",
              "      <td>Yahoo</td>\n",
              "      <td>VanEck Vctrs Egypt Idx</td>\n",
              "      <td>251</td>\n",
              "    </tr>\n",
              "    <tr>\n",
              "      <th>82</th>\n",
              "      <td>EWGS(HB)</td>\n",
              "      <td>EWGS</td>\n",
              "      <td>Yahoo</td>\n",
              "      <td>iShs MSCI Germany Sm Cap</td>\n",
              "      <td>234</td>\n",
              "    </tr>\n",
              "    <tr>\n",
              "      <th>117</th>\n",
              "      <td>GRES(HB)</td>\n",
              "      <td>GRES</td>\n",
              "      <td>Yahoo</td>\n",
              "      <td>IQ Global Resources ETF</td>\n",
              "      <td>2912</td>\n",
              "    </tr>\n",
              "    <tr>\n",
              "      <th>167</th>\n",
              "      <td>JJU</td>\n",
              "      <td>JJU</td>\n",
              "      <td>Yahoo</td>\n",
              "      <td>iPath Series B Bloomberg Aluminum Subindex Tot...</td>\n",
              "      <td>3780</td>\n",
              "    </tr>\n",
              "    <tr>\n",
              "      <th>192</th>\n",
              "      <td>PEK</td>\n",
              "      <td>GLCN</td>\n",
              "      <td>Yahoo</td>\n",
              "      <td>VanEck Vectors China Growth Leaders ETF</td>\n",
              "      <td>3774</td>\n",
              "    </tr>\n",
              "  </tbody>\n",
              "</table>\n",
              "</div>"
            ],
            "text/plain": [
              "         IdTD IdTicker Source  \\\n",
              "63   EGPT(HB)     EGPT  Yahoo   \n",
              "82   EWGS(HB)     EWGS  Yahoo   \n",
              "117  GRES(HB)     GRES  Yahoo   \n",
              "167       JJU      JJU  Yahoo   \n",
              "192       PEK     GLCN  Yahoo   \n",
              "\n",
              "                                           Descripcion  IdIndiceEspecifico  \n",
              "63                              VanEck Vctrs Egypt Idx                 251  \n",
              "82                            iShs MSCI Germany Sm Cap                 234  \n",
              "117                            IQ Global Resources ETF                2912  \n",
              "167  iPath Series B Bloomberg Aluminum Subindex Tot...                3780  \n",
              "192            VanEck Vectors China Growth Leaders ETF                3774  "
            ]
          },
          "execution_count": 13,
          "metadata": {},
          "output_type": "execute_result"
        }
      ],
      "source": [
        "# missing=['EURUSD=X','GBPUSD=X','MXN=X']\n",
        "df[df.IdTicker.isin(missing)]"
      ]
    },
    {
      "cell_type": "code",
      "execution_count": null,
      "metadata": {
        "id": "WcQCigrrlx9M",
        "scrolled": true
      },
      "outputs": [],
      "source": [
        "#Ejemplo para buscar faltantes:\n",
        "#query= '''\n",
        "#SELECT TOP(50) * FROM dbo.TablaDatos Where IdindiceEspecifico = 251 Order By DatoFecha Desc\n",
        "#'''\n",
        "#dfOJ = read_data_to_df(query)\n",
        "#dfOJ[:]"
      ]
    },
    {
      "cell_type": "markdown",
      "metadata": {
        "id": "r40uLZfQlx9M"
      },
      "source": [
        "## Unificación final y empacado de datos para base de datos\n",
        "\n",
        "Aquí se unifican (Cuando está disponible) los índices de Yahoo e Investing y se empacan en el formato de TablaDatos"
      ]
    },
    {
      "cell_type": "code",
      "execution_count": 14,
      "metadata": {
        "id": "4NdQVNJPlx9M"
      },
      "outputs": [],
      "source": [
        "df_final=df_y.copy()\n",
        "df_final.to_excel('FinancialMarkets.xlsx',index=False)\n",
        "# display(df_final)\n",
        "\n",
        "#Ordenar\n",
        "df_final=df_final[['IdIndiceEspecifico',\n",
        "     'DatoFecha',\n",
        "     'D_Open',\n",
        "     'D_High',\n",
        "     'D_Low',\n",
        "     'D_Close',\n",
        "     'D_Volume',\n",
        "     'D_OpenInterest']]\n",
        "#Renombrar\n",
        "df_final.columns=['IdIndiceEspecifico',\n",
        "     'DatoFecha',\n",
        "     'D_Open',\n",
        "     'D_High',\n",
        "     'D_Low',\n",
        "     'D_Close',\n",
        "     'D_Volume',\n",
        "     'D_OpenInterest']\n",
        "df_final.reset_index(inplace=True,drop=True)\n",
        "df_f=df_final.copy() #Copia a final\n",
        "df_f.reset_index(inplace=True,drop=True)\n",
        "\n",
        "\n",
        "df_f.DatoFecha=df_final.loc[1,'DatoFecha']\n"
      ]
    },
    {
      "cell_type": "code",
      "execution_count": null,
      "metadata": {
        "colab": {
          "base_uri": "https://localhost:8080/",
          "height": 1000
        },
        "id": "zHEaGvcXlx9N",
        "outputId": "c31d5846-90ff-4c39-d456-6d2c8d5efa23"
      },
      "outputs": [],
      "source": [
        "df_f"
      ]
    },
    {
      "cell_type": "markdown",
      "metadata": {
        "id": "xxiPjL19lx9N"
      },
      "source": [
        "## Retry para agregar faltantes"
      ]
    },
    {
      "cell_type": "code",
      "execution_count": null,
      "metadata": {
        "colab": {
          "base_uri": "https://localhost:8080/"
        },
        "id": "hUtdsyXelx9N",
        "outputId": "3dbdffeb-61d6-4b97-a879-2aa815f5f683",
        "scrolled": true
      },
      "outputs": [
        {
          "ename": "ValueError",
          "evalue": "list.remove(x): x not in list",
          "output_type": "error",
          "traceback": [
            "\u001b[1;31m---------------------------------------------------------------------------\u001b[0m",
            "\u001b[1;31mValueError\u001b[0m                                Traceback (most recent call last)",
            "Cell \u001b[1;32mIn[16], line 1\u001b[0m\n\u001b[1;32m----> 1\u001b[0m \u001b[43mlista_manual\u001b[49m\u001b[38;5;241;43m.\u001b[39;49m\u001b[43mremove\u001b[49m\u001b[43m(\u001b[49m\u001b[38;5;124;43m'\u001b[39;49m\u001b[38;5;124;43mERUS\u001b[39;49m\u001b[38;5;124;43m'\u001b[39;49m\u001b[43m)\u001b[49m\n\u001b[0;32m      2\u001b[0m lista_manual\u001b[38;5;241m.\u001b[39mremove(\u001b[38;5;124m'\u001b[39m\u001b[38;5;124mRSX\u001b[39m\u001b[38;5;124m'\u001b[39m)\n\u001b[0;32m      3\u001b[0m lista_manual\n",
            "\u001b[1;31mValueError\u001b[0m: list.remove(x): x not in list"
          ]
        }
      ],
      "source": [
        "for item in ['ERUS', 'RSX']:\n",
        "    try:\n",
        "        lista_manual.remove(item)\n",
        "    except ValueError:\n",
        "        pass\n",
        "\n",
        "lista_manual\n"
      ]
    },
    {
      "cell_type": "code",
      "execution_count": 17,
      "metadata": {
        "colab": {
          "base_uri": "https://localhost:8080/"
        },
        "id": "27Jp6Z6Ilx9N",
        "outputId": "61eec2f4-43e0-4e31-9935-be4448f4d28a"
      },
      "outputs": [
        {
          "name": "stdout",
          "output_type": "stream",
          "text": [
            "Fallo con Ticker\n",
            "Entrando en modo de fallo\n",
            "Fallo con Ticker\n",
            "Entrando en modo de fallo\n",
            "Fallo con Ticker\n",
            "Entrando en modo de fallo\n"
          ]
        }
      ],
      "source": [
        "# for i in range(0,1):\n",
        "    #Procesamiento original\n",
        "idx=lista_manual[-1]\n",
        "#     display(idx.IdTicker)\n",
        "n=0\n",
        "#Intentos de descarga:\n",
        "for n in range(retries):\n",
        "    try:     #1er Intento\n",
        "        #Usando funciones definidas\n",
        "        last = downloading_yahoo(idx, fecha_inicial, fecha_final)\n",
        "        #Agregar y esperar para debugging\n",
        "        a_juntar.append(last)\n",
        "        time.sleep(espera)\n",
        "        break #EXITO, pasar a siguiente indice.\n",
        "    except:   #Segundo intento en caso de falla\n",
        "        print('Fallo con Ticker')\n",
        "        time.sleep(espera)\n",
        "        print('Entrando en modo de fallo')\n",
        "#         if n == retries-1:\n",
        "#             display(idx.IdTicker)\n",
        "#             missing.append(idx.IdTicker)"
      ]
    },
    {
      "cell_type": "markdown",
      "metadata": {
        "id": "3zWp_6TYlx9N"
      },
      "source": [
        "## Escritura a la base de datos\n",
        "\n",
        "Se escribe a TablaDatos y TablaDatos_BU hasta que se complete la migración"
      ]
    },
    {
      "cell_type": "code",
      "execution_count": null,
      "metadata": {
        "colab": {
          "base_uri": "https://localhost:8080/",
          "height": 1000
        },
        "id": "Z2gtDEcrlx9N",
        "outputId": "0d66d1cd-6122-47bb-de22-4690c2cc6d1f"
      },
      "outputs": [],
      "source": [
        "df_f"
      ]
    },
    {
      "cell_type": "code",
      "execution_count": null,
      "metadata": {
        "id": "WMvt18Zblx9O"
      },
      "outputs": [],
      "source": [
        "#write2db(df_f,'TablaDatos')\n",
        "df_f.to_excel('FinancialMarketsBU.xlsx',index=False)"
      ]
    },
    {
      "cell_type": "code",
      "execution_count": null,
      "metadata": {
        "id": "vjkFBGEhlx9O"
      },
      "outputs": [],
      "source": []
    }
  ],
  "metadata": {
    "colab": {
      "provenance": []
    },
    "kernelspec": {
      "display_name": "base",
      "language": "python",
      "name": "python3"
    },
    "language_info": {
      "codemirror_mode": {
        "name": "ipython",
        "version": 3
      },
      "file_extension": ".py",
      "mimetype": "text/x-python",
      "name": "python",
      "nbconvert_exporter": "python",
      "pygments_lexer": "ipython3",
      "version": "3.12.3"
    },
    "widgets": {
      "application/vnd.jupyter.widget-state+json": {
        "01676e4482034918b6fdbdca955bf583": {
          "model_module": "@jupyter-widgets/base",
          "model_module_version": "1.2.0",
          "model_name": "LayoutModel",
          "state": {
            "_model_module": "@jupyter-widgets/base",
            "_model_module_version": "1.2.0",
            "_model_name": "LayoutModel",
            "_view_count": null,
            "_view_module": "@jupyter-widgets/base",
            "_view_module_version": "1.2.0",
            "_view_name": "LayoutView",
            "align_content": null,
            "align_items": null,
            "align_self": null,
            "border": null,
            "bottom": null,
            "display": null,
            "flex": null,
            "flex_flow": null,
            "grid_area": null,
            "grid_auto_columns": null,
            "grid_auto_flow": null,
            "grid_auto_rows": null,
            "grid_column": null,
            "grid_gap": null,
            "grid_row": null,
            "grid_template_areas": null,
            "grid_template_columns": null,
            "grid_template_rows": null,
            "height": null,
            "justify_content": null,
            "justify_items": null,
            "left": null,
            "margin": null,
            "max_height": null,
            "max_width": null,
            "min_height": null,
            "min_width": null,
            "object_fit": null,
            "object_position": null,
            "order": null,
            "overflow": null,
            "overflow_x": null,
            "overflow_y": null,
            "padding": null,
            "right": null,
            "top": null,
            "visibility": null,
            "width": null
          }
        },
        "0b69150956de4b4d886261000c5c8186": {
          "model_module": "@jupyter-widgets/base",
          "model_module_version": "1.2.0",
          "model_name": "LayoutModel",
          "state": {
            "_model_module": "@jupyter-widgets/base",
            "_model_module_version": "1.2.0",
            "_model_name": "LayoutModel",
            "_view_count": null,
            "_view_module": "@jupyter-widgets/base",
            "_view_module_version": "1.2.0",
            "_view_name": "LayoutView",
            "align_content": null,
            "align_items": null,
            "align_self": null,
            "border": null,
            "bottom": null,
            "display": null,
            "flex": null,
            "flex_flow": null,
            "grid_area": null,
            "grid_auto_columns": null,
            "grid_auto_flow": null,
            "grid_auto_rows": null,
            "grid_column": null,
            "grid_gap": null,
            "grid_row": null,
            "grid_template_areas": null,
            "grid_template_columns": null,
            "grid_template_rows": null,
            "height": null,
            "justify_content": null,
            "justify_items": null,
            "left": null,
            "margin": null,
            "max_height": null,
            "max_width": null,
            "min_height": null,
            "min_width": null,
            "object_fit": null,
            "object_position": null,
            "order": null,
            "overflow": null,
            "overflow_x": null,
            "overflow_y": null,
            "padding": null,
            "right": null,
            "top": null,
            "visibility": null,
            "width": null
          }
        },
        "12856369655b48ea91b8f5314dca7103": {
          "model_module": "@jupyter-widgets/base",
          "model_module_version": "1.2.0",
          "model_name": "LayoutModel",
          "state": {
            "_model_module": "@jupyter-widgets/base",
            "_model_module_version": "1.2.0",
            "_model_name": "LayoutModel",
            "_view_count": null,
            "_view_module": "@jupyter-widgets/base",
            "_view_module_version": "1.2.0",
            "_view_name": "LayoutView",
            "align_content": null,
            "align_items": null,
            "align_self": null,
            "border": null,
            "bottom": null,
            "display": null,
            "flex": null,
            "flex_flow": null,
            "grid_area": null,
            "grid_auto_columns": null,
            "grid_auto_flow": null,
            "grid_auto_rows": null,
            "grid_column": null,
            "grid_gap": null,
            "grid_row": null,
            "grid_template_areas": null,
            "grid_template_columns": null,
            "grid_template_rows": null,
            "height": null,
            "justify_content": null,
            "justify_items": null,
            "left": null,
            "margin": null,
            "max_height": null,
            "max_width": null,
            "min_height": null,
            "min_width": null,
            "object_fit": null,
            "object_position": null,
            "order": null,
            "overflow": null,
            "overflow_x": null,
            "overflow_y": null,
            "padding": null,
            "right": null,
            "top": null,
            "visibility": null,
            "width": null
          }
        },
        "18179d69fced4d79a5c281766ba38a83": {
          "model_module": "@jupyter-widgets/controls",
          "model_module_version": "1.5.0",
          "model_name": "HTMLModel",
          "state": {
            "_dom_classes": [],
            "_model_module": "@jupyter-widgets/controls",
            "_model_module_version": "1.5.0",
            "_model_name": "HTMLModel",
            "_view_count": null,
            "_view_module": "@jupyter-widgets/controls",
            "_view_module_version": "1.5.0",
            "_view_name": "HTMLView",
            "description": "",
            "description_tooltip": null,
            "layout": "IPY_MODEL_0b69150956de4b4d886261000c5c8186",
            "placeholder": "​",
            "style": "IPY_MODEL_782401d2f5694875a92b22e57a2093ee",
            "value": "100%"
          }
        },
        "213ff2253f034725a2a0d12678984033": {
          "model_module": "@jupyter-widgets/controls",
          "model_module_version": "1.5.0",
          "model_name": "HBoxModel",
          "state": {
            "_dom_classes": [],
            "_model_module": "@jupyter-widgets/controls",
            "_model_module_version": "1.5.0",
            "_model_name": "HBoxModel",
            "_view_count": null,
            "_view_module": "@jupyter-widgets/controls",
            "_view_module_version": "1.5.0",
            "_view_name": "HBoxView",
            "box_style": "",
            "children": [
              "IPY_MODEL_18179d69fced4d79a5c281766ba38a83",
              "IPY_MODEL_cc475c9e478f4984ab484a2a5976640f",
              "IPY_MODEL_5d3ba73d55504395ad8546571381b080"
            ],
            "layout": "IPY_MODEL_01676e4482034918b6fdbdca955bf583"
          }
        },
        "5d3ba73d55504395ad8546571381b080": {
          "model_module": "@jupyter-widgets/controls",
          "model_module_version": "1.5.0",
          "model_name": "HTMLModel",
          "state": {
            "_dom_classes": [],
            "_model_module": "@jupyter-widgets/controls",
            "_model_module_version": "1.5.0",
            "_model_name": "HTMLModel",
            "_view_count": null,
            "_view_module": "@jupyter-widgets/controls",
            "_view_module_version": "1.5.0",
            "_view_name": "HTMLView",
            "description": "",
            "description_tooltip": null,
            "layout": "IPY_MODEL_12856369655b48ea91b8f5314dca7103",
            "placeholder": "​",
            "style": "IPY_MODEL_e2ecbff933ab452f8ec3b6dcc54bb71e",
            "value": " 259/259 [05:43&lt;00:00,  1.22s/it]"
          }
        },
        "782401d2f5694875a92b22e57a2093ee": {
          "model_module": "@jupyter-widgets/controls",
          "model_module_version": "1.5.0",
          "model_name": "DescriptionStyleModel",
          "state": {
            "_model_module": "@jupyter-widgets/controls",
            "_model_module_version": "1.5.0",
            "_model_name": "DescriptionStyleModel",
            "_view_count": null,
            "_view_module": "@jupyter-widgets/base",
            "_view_module_version": "1.2.0",
            "_view_name": "StyleView",
            "description_width": ""
          }
        },
        "bc6f0164fec84d3896e150a89db7d56f": {
          "model_module": "@jupyter-widgets/base",
          "model_module_version": "1.2.0",
          "model_name": "LayoutModel",
          "state": {
            "_model_module": "@jupyter-widgets/base",
            "_model_module_version": "1.2.0",
            "_model_name": "LayoutModel",
            "_view_count": null,
            "_view_module": "@jupyter-widgets/base",
            "_view_module_version": "1.2.0",
            "_view_name": "LayoutView",
            "align_content": null,
            "align_items": null,
            "align_self": null,
            "border": null,
            "bottom": null,
            "display": null,
            "flex": null,
            "flex_flow": null,
            "grid_area": null,
            "grid_auto_columns": null,
            "grid_auto_flow": null,
            "grid_auto_rows": null,
            "grid_column": null,
            "grid_gap": null,
            "grid_row": null,
            "grid_template_areas": null,
            "grid_template_columns": null,
            "grid_template_rows": null,
            "height": null,
            "justify_content": null,
            "justify_items": null,
            "left": null,
            "margin": null,
            "max_height": null,
            "max_width": null,
            "min_height": null,
            "min_width": null,
            "object_fit": null,
            "object_position": null,
            "order": null,
            "overflow": null,
            "overflow_x": null,
            "overflow_y": null,
            "padding": null,
            "right": null,
            "top": null,
            "visibility": null,
            "width": null
          }
        },
        "c2afbd76d17544ea8c41806f70e9c57e": {
          "model_module": "@jupyter-widgets/controls",
          "model_module_version": "1.5.0",
          "model_name": "ProgressStyleModel",
          "state": {
            "_model_module": "@jupyter-widgets/controls",
            "_model_module_version": "1.5.0",
            "_model_name": "ProgressStyleModel",
            "_view_count": null,
            "_view_module": "@jupyter-widgets/base",
            "_view_module_version": "1.2.0",
            "_view_name": "StyleView",
            "bar_color": null,
            "description_width": ""
          }
        },
        "cc475c9e478f4984ab484a2a5976640f": {
          "model_module": "@jupyter-widgets/controls",
          "model_module_version": "1.5.0",
          "model_name": "FloatProgressModel",
          "state": {
            "_dom_classes": [],
            "_model_module": "@jupyter-widgets/controls",
            "_model_module_version": "1.5.0",
            "_model_name": "FloatProgressModel",
            "_view_count": null,
            "_view_module": "@jupyter-widgets/controls",
            "_view_module_version": "1.5.0",
            "_view_name": "ProgressView",
            "bar_style": "success",
            "description": "",
            "description_tooltip": null,
            "layout": "IPY_MODEL_bc6f0164fec84d3896e150a89db7d56f",
            "max": 259,
            "min": 0,
            "orientation": "horizontal",
            "style": "IPY_MODEL_c2afbd76d17544ea8c41806f70e9c57e",
            "value": 259
          }
        },
        "e2ecbff933ab452f8ec3b6dcc54bb71e": {
          "model_module": "@jupyter-widgets/controls",
          "model_module_version": "1.5.0",
          "model_name": "DescriptionStyleModel",
          "state": {
            "_model_module": "@jupyter-widgets/controls",
            "_model_module_version": "1.5.0",
            "_model_name": "DescriptionStyleModel",
            "_view_count": null,
            "_view_module": "@jupyter-widgets/base",
            "_view_module_version": "1.2.0",
            "_view_name": "StyleView",
            "description_width": ""
          }
        }
      }
    }
  },
  "nbformat": 4,
  "nbformat_minor": 0
}
